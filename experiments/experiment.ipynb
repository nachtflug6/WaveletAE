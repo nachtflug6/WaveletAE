{
 "cells": [
  {
   "cell_type": "code",
   "execution_count": null,
   "id": "4248b082",
   "metadata": {
    "vscode": {
     "languageId": "plaintext"
    }
   },
   "outputs": [],
   "source": [
    "from waveletae.training.toydata import generate_multi_sine\n",
    "\n",
    "def generate_toy_data(T=600, n=4, sparsity=0.5, r=128, timing_mode=\"gaussian\", use_dwt=True):\n",
    "    signals, masks, _ = generate_multi_sine(T=T, n=n, sparsity=sparsity)\n",
    "\n",
    "    resampled_vals = []\n",
    "    resampled_time = []\n",
    "    for i in range(n):\n",
    "        from waveletae.preprocessing.interpolation import linear_interpolate\n",
    "        from waveletae.preprocessing.timing import timing_signal\n",
    "\n",
    "        vals = linear_interpolate(signals[i], masks[i], r)\n",
    "        times = timing_signal(masks[i], mode=timing_mode, r=r)\n",
    "\n",
    "        resampled_vals.append(vals)\n",
    "        resampled_time.append(times)\n",
    "\n",
    "    X = np.stack(resampled_vals + resampled_time, axis=0)\n",
    "\n",
    "    if use_dwt:\n",
    "        from waveletae.preprocessing.wavelet import apply_dwt\n",
    "        X = apply_dwt(X)\n",
    "\n",
    "    return X\n"
   ]
  }
 ],
 "metadata": {
  "language_info": {
   "name": "python"
  }
 },
 "nbformat": 4,
 "nbformat_minor": 5
}
